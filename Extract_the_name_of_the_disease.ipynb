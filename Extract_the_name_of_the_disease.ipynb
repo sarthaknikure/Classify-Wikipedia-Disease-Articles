{
  "nbformat": 4,
  "nbformat_minor": 0,
  "metadata": {
    "colab": {
      "name": "Extract the name of the disease.ipynb",
      "provenance": [],
      "collapsed_sections": []
    },
    "kernelspec": {
      "name": "python3",
      "display_name": "Python 3"
    },
    "language_info": {
      "name": "python"
    },
    "accelerator": "GPU"
  },
  "cells": [
    {
      "cell_type": "code",
      "execution_count": 1,
      "metadata": {
        "id": "fFLkstr4kgIc"
      },
      "outputs": [],
      "source": [
        "import pandas as pd\n",
        "import numpy as np\n",
        "from bs4 import BeautifulSoup\n",
        "from functools import reduce\n",
        "import os"
      ]
    },
    {
      "cell_type": "code",
      "source": [
        "with open('/content/drive/MyDrive/The Problem: Classify Wikipedia Disease Articles/training/positive/AIDS') as fp:\n",
        "  soup = BeautifulSoup(fp, 'html.parser')\n",
        "  body = soup.select('h1#firstHeading')[0]\n",
        "  print(body)"
      ],
      "metadata": {
        "colab": {
          "base_uri": "https://localhost:8080/"
        },
        "id": "5HNA64i6m36S",
        "outputId": "e1c259dc-1e0b-4ae7-8b4f-557d65e3a551"
      },
      "execution_count": 2,
      "outputs": [
        {
          "output_type": "stream",
          "name": "stdout",
          "text": [
            "<h1 class=\"firstHeading\" id=\"firstHeading\" lang=\"en\">HIV/AIDS</h1>\n"
          ]
        }
      ]
    },
    {
      "cell_type": "code",
      "source": [
        "def get_heading_name(heading):\n",
        "  return heading.select('h1#firstHeading')[0].get_text()\n"
      ],
      "metadata": {
        "id": "ZeQ0JiRhoK35"
      },
      "execution_count": 3,
      "outputs": []
    },
    {
      "cell_type": "code",
      "source": [
        "def get_doc(file_path):\n",
        "  title=\"\"\n",
        "  content=\"\"\n",
        "  with open(file_path) as fp:\n",
        "    soup = BeautifulSoup(fp, 'html.parser')\n",
        "  return soup"
      ],
      "metadata": {
        "id": "7BofwFqUJfQc"
      },
      "execution_count": 4,
      "outputs": []
    },
    {
      "cell_type": "code",
      "source": [
        "#Headings\n",
        "def TOC_Level1(cont):\n",
        "  toc = []\n",
        "  toc_content = cont.select('#toc li.toclevel-1 a')\n",
        "  if len(toc_content) > 0:\n",
        "    toc = [tocs['href'][1:len(tocs['href'])] for tocs in toc_content]\n",
        "  return toc"
      ],
      "metadata": {
        "id": "htkbJdYKJ9no"
      },
      "execution_count": 5,
      "outputs": []
    },
    {
      "cell_type": "code",
      "source": [
        "# Section\n",
        "def TOC_Level2(cont, toc):\n",
        "  sec_info = cont.find_all(recursive=False)\n",
        "  disease_info={}\n",
        "  collecting = None\n",
        "  for info in sec_info:\n",
        "    toc_content=info.select('span.mw-headline')\n",
        "    if len(toc_content) > 0:\n",
        "      toc_text = toc_content[0].get_text()\n",
        "      if len(toc) == 0 or toc_text in toc:\n",
        "        collecting = toc_content[0].get_text()\n",
        "        disease_info[collecting] = \"\"\n",
        "      \n",
        "    else:\n",
        "      if collecting:\n",
        "        toc_text_acc = disease_info[collecting]\n",
        "        text = info.get_text()\n",
        "        toc_text_acc = toc_text_acc +\" \"+ text\n",
        "        disease_info[collecting] = toc_text_acc\n",
        "\n",
        "  return disease_info"
      ],
      "metadata": {
        "id": "WVpsz7YVMKRD"
      },
      "execution_count": 6,
      "outputs": []
    },
    {
      "cell_type": "code",
      "source": [
        "def Extract_all_info(file_path):\n",
        "  info = {}\n",
        "  soup = get_doc(file_path)\n",
        "  disease_name = get_heading_name(soup)\n",
        "  cont = soup.select('#mw-content-text')[0]\n",
        "  toc = TOC_Level1(cont)\n",
        "  disease_info = TOC_Level2(cont, toc)\n",
        "\n",
        "  return {'disease_name':disease_name, 'toc':disease_info.keys(), 'disease_info': disease_info}"
      ],
      "metadata": {
        "id": "LBKwmX8qRSRF"
      },
      "execution_count": 7,
      "outputs": []
    },
    {
      "cell_type": "code",
      "source": [
        "positive_data = os.fsencode('/content/drive/MyDrive/The Problem: Classify Wikipedia Disease Articles/training/positive')"
      ],
      "metadata": {
        "id": "sxsQJC2eTnZI"
      },
      "execution_count": 8,
      "outputs": []
    },
    {
      "cell_type": "code",
      "source": [
        "def DataExtraction(x):\n",
        "  disease_names = []\n",
        "  tocs = []\n",
        "  disease_info_list = []\n",
        "\n",
        "  for file in os.listdir(x):\n",
        "    file_path = os.path.join(positive_data, files[i])\n",
        "    info = Extract_all_info(file_path)\n",
        "    disease_names.append(info['disease_name'])\n",
        "    tocs.append(info['toc'])\n",
        "    disease_info_list.append(info['disease_info'])\n",
        "\n",
        "  data_frame = {'disease_name':disease_names, 'extracted_headings':tocs, 'disease_info':disease_info_list}\n",
        "  df = pd.DataFrame(data_frame)\n",
        "  return df"
      ],
      "metadata": {
        "id": "0qZnxufQc4l-"
      },
      "execution_count": 12,
      "outputs": []
    },
    {
      "cell_type": "code",
      "source": [
        "df = DataExtraction(positive_data)\n",
        "df.head()"
      ],
      "metadata": {
        "colab": {
          "base_uri": "https://localhost:8080/",
          "height": 206
        },
        "id": "srSJXYIZgtHi",
        "outputId": "8f00fe1d-6c05-48f3-d8e1-911393156327"
      },
      "execution_count": 13,
      "outputs": [
        {
          "output_type": "execute_result",
          "data": {
            "text/plain": [
              "         disease_name             extracted_headings  \\\n",
              "0  Pipecolic acidemia  (Characteristics, References)   \n",
              "1  Pipecolic acidemia  (Characteristics, References)   \n",
              "2  Pipecolic acidemia  (Characteristics, References)   \n",
              "3  Pipecolic acidemia  (Characteristics, References)   \n",
              "4  Pipecolic acidemia  (Characteristics, References)   \n",
              "\n",
              "                                        disease_info  \n",
              "0  {'Characteristics': ' The disorder is characte...  \n",
              "1  {'Characteristics': ' The disorder is characte...  \n",
              "2  {'Characteristics': ' The disorder is characte...  \n",
              "3  {'Characteristics': ' The disorder is characte...  \n",
              "4  {'Characteristics': ' The disorder is characte...  "
            ],
            "text/html": [
              "\n",
              "  <div id=\"df-b17543c2-b1d8-45ef-9760-b23fc89239a3\">\n",
              "    <div class=\"colab-df-container\">\n",
              "      <div>\n",
              "<style scoped>\n",
              "    .dataframe tbody tr th:only-of-type {\n",
              "        vertical-align: middle;\n",
              "    }\n",
              "\n",
              "    .dataframe tbody tr th {\n",
              "        vertical-align: top;\n",
              "    }\n",
              "\n",
              "    .dataframe thead th {\n",
              "        text-align: right;\n",
              "    }\n",
              "</style>\n",
              "<table border=\"1\" class=\"dataframe\">\n",
              "  <thead>\n",
              "    <tr style=\"text-align: right;\">\n",
              "      <th></th>\n",
              "      <th>disease_name</th>\n",
              "      <th>extracted_headings</th>\n",
              "      <th>disease_info</th>\n",
              "    </tr>\n",
              "  </thead>\n",
              "  <tbody>\n",
              "    <tr>\n",
              "      <th>0</th>\n",
              "      <td>Pipecolic acidemia</td>\n",
              "      <td>(Characteristics, References)</td>\n",
              "      <td>{'Characteristics': ' The disorder is characte...</td>\n",
              "    </tr>\n",
              "    <tr>\n",
              "      <th>1</th>\n",
              "      <td>Pipecolic acidemia</td>\n",
              "      <td>(Characteristics, References)</td>\n",
              "      <td>{'Characteristics': ' The disorder is characte...</td>\n",
              "    </tr>\n",
              "    <tr>\n",
              "      <th>2</th>\n",
              "      <td>Pipecolic acidemia</td>\n",
              "      <td>(Characteristics, References)</td>\n",
              "      <td>{'Characteristics': ' The disorder is characte...</td>\n",
              "    </tr>\n",
              "    <tr>\n",
              "      <th>3</th>\n",
              "      <td>Pipecolic acidemia</td>\n",
              "      <td>(Characteristics, References)</td>\n",
              "      <td>{'Characteristics': ' The disorder is characte...</td>\n",
              "    </tr>\n",
              "    <tr>\n",
              "      <th>4</th>\n",
              "      <td>Pipecolic acidemia</td>\n",
              "      <td>(Characteristics, References)</td>\n",
              "      <td>{'Characteristics': ' The disorder is characte...</td>\n",
              "    </tr>\n",
              "  </tbody>\n",
              "</table>\n",
              "</div>\n",
              "      <button class=\"colab-df-convert\" onclick=\"convertToInteractive('df-b17543c2-b1d8-45ef-9760-b23fc89239a3')\"\n",
              "              title=\"Convert this dataframe to an interactive table.\"\n",
              "              style=\"display:none;\">\n",
              "        \n",
              "  <svg xmlns=\"http://www.w3.org/2000/svg\" height=\"24px\"viewBox=\"0 0 24 24\"\n",
              "       width=\"24px\">\n",
              "    <path d=\"M0 0h24v24H0V0z\" fill=\"none\"/>\n",
              "    <path d=\"M18.56 5.44l.94 2.06.94-2.06 2.06-.94-2.06-.94-.94-2.06-.94 2.06-2.06.94zm-11 1L8.5 8.5l.94-2.06 2.06-.94-2.06-.94L8.5 2.5l-.94 2.06-2.06.94zm10 10l.94 2.06.94-2.06 2.06-.94-2.06-.94-.94-2.06-.94 2.06-2.06.94z\"/><path d=\"M17.41 7.96l-1.37-1.37c-.4-.4-.92-.59-1.43-.59-.52 0-1.04.2-1.43.59L10.3 9.45l-7.72 7.72c-.78.78-.78 2.05 0 2.83L4 21.41c.39.39.9.59 1.41.59.51 0 1.02-.2 1.41-.59l7.78-7.78 2.81-2.81c.8-.78.8-2.07 0-2.86zM5.41 20L4 18.59l7.72-7.72 1.47 1.35L5.41 20z\"/>\n",
              "  </svg>\n",
              "      </button>\n",
              "      \n",
              "  <style>\n",
              "    .colab-df-container {\n",
              "      display:flex;\n",
              "      flex-wrap:wrap;\n",
              "      gap: 12px;\n",
              "    }\n",
              "\n",
              "    .colab-df-convert {\n",
              "      background-color: #E8F0FE;\n",
              "      border: none;\n",
              "      border-radius: 50%;\n",
              "      cursor: pointer;\n",
              "      display: none;\n",
              "      fill: #1967D2;\n",
              "      height: 32px;\n",
              "      padding: 0 0 0 0;\n",
              "      width: 32px;\n",
              "    }\n",
              "\n",
              "    .colab-df-convert:hover {\n",
              "      background-color: #E2EBFA;\n",
              "      box-shadow: 0px 1px 2px rgba(60, 64, 67, 0.3), 0px 1px 3px 1px rgba(60, 64, 67, 0.15);\n",
              "      fill: #174EA6;\n",
              "    }\n",
              "\n",
              "    [theme=dark] .colab-df-convert {\n",
              "      background-color: #3B4455;\n",
              "      fill: #D2E3FC;\n",
              "    }\n",
              "\n",
              "    [theme=dark] .colab-df-convert:hover {\n",
              "      background-color: #434B5C;\n",
              "      box-shadow: 0px 1px 3px 1px rgba(0, 0, 0, 0.15);\n",
              "      filter: drop-shadow(0px 1px 2px rgba(0, 0, 0, 0.3));\n",
              "      fill: #FFFFFF;\n",
              "    }\n",
              "  </style>\n",
              "\n",
              "      <script>\n",
              "        const buttonEl =\n",
              "          document.querySelector('#df-b17543c2-b1d8-45ef-9760-b23fc89239a3 button.colab-df-convert');\n",
              "        buttonEl.style.display =\n",
              "          google.colab.kernel.accessAllowed ? 'block' : 'none';\n",
              "\n",
              "        async function convertToInteractive(key) {\n",
              "          const element = document.querySelector('#df-b17543c2-b1d8-45ef-9760-b23fc89239a3');\n",
              "          const dataTable =\n",
              "            await google.colab.kernel.invokeFunction('convertToInteractive',\n",
              "                                                     [key], {});\n",
              "          if (!dataTable) return;\n",
              "\n",
              "          const docLinkHtml = 'Like what you see? Visit the ' +\n",
              "            '<a target=\"_blank\" href=https://colab.research.google.com/notebooks/data_table.ipynb>data table notebook</a>'\n",
              "            + ' to learn more about interactive tables.';\n",
              "          element.innerHTML = '';\n",
              "          dataTable['output_type'] = 'display_data';\n",
              "          await google.colab.output.renderOutput(dataTable, element);\n",
              "          const docLink = document.createElement('div');\n",
              "          docLink.innerHTML = docLinkHtml;\n",
              "          element.appendChild(docLink);\n",
              "        }\n",
              "      </script>\n",
              "    </div>\n",
              "  </div>\n",
              "  "
            ]
          },
          "metadata": {},
          "execution_count": 13
        }
      ]
    },
    {
      "cell_type": "code",
      "source": [
        "df.shape"
      ],
      "metadata": {
        "colab": {
          "base_uri": "https://localhost:8080/"
        },
        "id": "0Xd_pCt5hPTh",
        "outputId": "ad99cf69-a3c7-44a5-810e-2896a2b9dbc3"
      },
      "execution_count": 15,
      "outputs": [
        {
          "output_type": "execute_result",
          "data": {
            "text/plain": [
              "(3692, 3)"
            ]
          },
          "metadata": {},
          "execution_count": 15
        }
      ]
    },
    {
      "cell_type": "code",
      "source": [
        "df.to_csv('/content/drive/MyDrive/The Problem: Classify Wikipedia Disease Articles/training/ExtractedData.csv', header=True, index=False)"
      ],
      "metadata": {
        "id": "VIj2CaF9iMQq"
      },
      "execution_count": 16,
      "outputs": []
    },
    {
      "cell_type": "code",
      "source": [
        ""
      ],
      "metadata": {
        "id": "K-bCB9XQiuZL"
      },
      "execution_count": null,
      "outputs": []
    }
  ]
}